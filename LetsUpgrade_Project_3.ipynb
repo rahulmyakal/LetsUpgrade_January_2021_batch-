{
  "nbformat": 4,
  "nbformat_minor": 0,
  "metadata": {
    "colab": {
      "name": "LetsUpgrade_Project_3.ipynb",
      "provenance": [],
      "authorship_tag": "ABX9TyPwWQRA0UeWaHNrOsrP8baJ",
      "include_colab_link": true
    },
    "kernelspec": {
      "name": "python3",
      "display_name": "Python 3"
    }
  },
  "cells": [
    {
      "cell_type": "markdown",
      "metadata": {
        "id": "view-in-github",
        "colab_type": "text"
      },
      "source": [
        "<a href=\"https://colab.research.google.com/github/rahulmyakal/LetsUpgrade_January_2021_batch-/blob/main/LetsUpgrade_Project_3.ipynb\" target=\"_parent\"><img src=\"https://colab.research.google.com/assets/colab-badge.svg\" alt=\"Open In Colab\"/></a>"
      ]
    },
    {
      "cell_type": "code",
      "metadata": {
        "colab": {
          "base_uri": "https://localhost:8080/"
        },
        "id": "ZdAD1CTx2lqb",
        "outputId": "273dffaf-7b46-4a3b-f06f-47fb10fffe04"
      },
      "source": [
        "#import instaloader as insta\n",
        "!pip install instaloader as insta"
      ],
      "execution_count": 3,
      "outputs": [
        {
          "output_type": "stream",
          "text": [
            "Collecting instaloader\n",
            "\u001b[?25l  Downloading https://files.pythonhosted.org/packages/75/c6/20f234ad49efc42c755cdbe30c149455b9d2d13a06c70fb9b9b188f8f44d/instaloader-4.6.tar.gz (48kB)\n",
            "\r\u001b[K     |██████▊                         | 10kB 21.0MB/s eta 0:00:01\r\u001b[K     |█████████████▌                  | 20kB 23.4MB/s eta 0:00:01\r\u001b[K     |████████████████████▎           | 30kB 13.0MB/s eta 0:00:01\r\u001b[K     |███████████████████████████     | 40kB 15.5MB/s eta 0:00:01\r\u001b[K     |████████████████████████████████| 51kB 4.2MB/s \n",
            "\u001b[?25hCollecting as\n",
            "  Downloading https://files.pythonhosted.org/packages/b4/08/226c133ec497d25a63edb38527c02db093c7d89e6d4cdc91078834486a5d/as-0.1-py3-none-any.whl\n",
            "Collecting insta\n",
            "  Downloading https://files.pythonhosted.org/packages/f3/b6/fedc8e4ed8903205580e41d3c5130955a13294fd30c8dbcc36aaadb7228f/insta-1.0.0.zip\n",
            "Requirement already satisfied: requests>=2.4 in /usr/local/lib/python3.6/dist-packages (from instaloader) (2.23.0)\n",
            "Requirement already satisfied: idna<3,>=2.5 in /usr/local/lib/python3.6/dist-packages (from requests>=2.4->instaloader) (2.10)\n",
            "Requirement already satisfied: urllib3!=1.25.0,!=1.25.1,<1.26,>=1.21.1 in /usr/local/lib/python3.6/dist-packages (from requests>=2.4->instaloader) (1.24.3)\n",
            "Requirement already satisfied: chardet<4,>=3.0.2 in /usr/local/lib/python3.6/dist-packages (from requests>=2.4->instaloader) (3.0.4)\n",
            "Requirement already satisfied: certifi>=2017.4.17 in /usr/local/lib/python3.6/dist-packages (from requests>=2.4->instaloader) (2020.12.5)\n",
            "Building wheels for collected packages: instaloader, insta\n",
            "  Building wheel for instaloader (setup.py) ... \u001b[?25l\u001b[?25hdone\n",
            "  Created wheel for instaloader: filename=instaloader-4.6-cp36-none-any.whl size=51898 sha256=27f6020ed339d64caee965dfda14bb3507ca7174ebc954b12d54ead578c36e17\n",
            "  Stored in directory: /root/.cache/pip/wheels/7d/66/14/5a70c7a53f9cb1308e3d0810785ee8be399449b7e585bb2ebd\n",
            "  Building wheel for insta (setup.py) ... \u001b[?25l\u001b[?25hdone\n",
            "  Created wheel for insta: filename=insta-1.0.0-cp36-none-any.whl size=1193 sha256=0fad22bdd2d597267af5869b96adb92b81e2b8eecd802c087a03755d93685641\n",
            "  Stored in directory: /root/.cache/pip/wheels/61/4b/3b/b3257f99f38a73c51ef71ee70a744d0bd43471c1bb0a0f519a\n",
            "Successfully built instaloader insta\n",
            "Installing collected packages: instaloader, as, insta\n",
            "Successfully installed as-0.1 insta-1.0.0 instaloader-4.6\n"
          ],
          "name": "stdout"
        }
      ]
    },
    {
      "cell_type": "code",
      "metadata": {
        "colab": {
          "base_uri": "https://localhost:8080/"
        },
        "id": "xlsI8pkO2QG_",
        "outputId": "12979cae-fb2a-4262-e5e9-81806f88ee53"
      },
      "source": [
        " \n",
        "#work only for open instagram accounts only\n",
        "import instaloader as insta \n",
        "mod = insta.Instaloader()\n",
        "user = input(\"enter user id to download:\")\n",
        "mod.download_profile(user,profile_pic_only=True)"
      ],
      "execution_count": 5,
      "outputs": [
        {
          "output_type": "stream",
          "text": [
            "enter user id to download:bbchindi\n",
            "Stored ID 2162926930 for profile bbchindi.\n",
            "bbchindi/2019-07-01_04-19-38_UTC_profile_pic.jpg \n"
          ],
          "name": "stdout"
        }
      ]
    }
  ]
}