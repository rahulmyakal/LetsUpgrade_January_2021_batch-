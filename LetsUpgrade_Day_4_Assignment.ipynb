{
  "nbformat": 4,
  "nbformat_minor": 0,
  "metadata": {
    "colab": {
      "name": "LetsUpgrade_Day_4_Assignment.ipynb",
      "provenance": [],
      "authorship_tag": "ABX9TyP2j800hHMBUMZmOwipjWT6",
      "include_colab_link": true
    },
    "kernelspec": {
      "name": "python3",
      "display_name": "Python 3"
    }
  },
  "cells": [
    {
      "cell_type": "markdown",
      "metadata": {
        "id": "view-in-github",
        "colab_type": "text"
      },
      "source": [
        "<a href=\"https://colab.research.google.com/github/rahulmyakal/LetsUpgrade_January_2021_batch-/blob/main/LetsUpgrade_Day_4_Assignment.ipynb\" target=\"_parent\"><img src=\"https://colab.research.google.com/assets/colab-badge.svg\" alt=\"Open In Colab\"/></a>"
      ]
    },
    {
      "cell_type": "markdown",
      "metadata": {
        "id": "NazWx1sXJBhN"
      },
      "source": [
        " Question 1\n",
        " \n",
        "Write a Python function to find the Max of three numbers."
      ]
    },
    {
      "cell_type": "code",
      "metadata": {
        "colab": {
          "base_uri": "https://localhost:8080/"
        },
        "id": "RgKzQuycJEeX",
        "outputId": "5813ed8c-079d-4c15-8428-4fc7ddff725e"
      },
      "source": [
        " \n",
        "def maximum(a, b, c): \n",
        " \n",
        "    if (a >= b) and (a >= c): \n",
        " \n",
        "        largest = a \n",
        " \n",
        "  \n",
        " \n",
        "    elif (b >= a) and (b >= c): \n",
        " \n",
        "        largest = b \n",
        " \n",
        "    else: \n",
        " \n",
        "        largest = c \n",
        " \n",
        "          \n",
        " \n",
        "    return largest\n",
        "a =62\n",
        " \n",
        "b =63\n",
        " \n",
        "c =73\n",
        " \n",
        "print(maximum(a, b, c))"
      ],
      "execution_count": 2,
      "outputs": [
        {
          "output_type": "stream",
          "text": [
            "73\n"
          ],
          "name": "stdout"
        }
      ]
    },
    {
      "cell_type": "markdown",
      "metadata": {
        "id": "tW0Ym8dTJR82"
      },
      "source": [
        " Question 2\n",
        "\n",
        "Write a Python function that checks whether a passed string is palindrome or not"
      ]
    },
    {
      "cell_type": "code",
      "metadata": {
        "colab": {
          "base_uri": "https://localhost:8080/"
        },
        "id": "61Usp-IgKtRv",
        "outputId": "5b5e2d0e-384e-41c2-ea3d-ae55137fbaac"
      },
      "source": [
        "def isPalindrome(s):\n",
        " \n",
        "    return s == s[::-1]\n",
        " \n",
        " \n",
        "# Driver code\n",
        " \n",
        "s = input(\"enter a STRING or NUMBER to find out palindrome or not!\\n\")\n",
        " \n",
        "ans = isPalindrome(s)\n",
        " \n",
        " \n",
        "if ans:\n",
        " \n",
        "    print(\"Yes\")\n",
        " \n",
        "else:\n",
        " \n",
        "    print(\"No\")"
      ],
      "execution_count": 8,
      "outputs": [
        {
          "output_type": "stream",
          "text": [
            "enter a STRING or NUMBER to find out palindrome or not!\n",
            "madam\n",
            "Yes\n"
          ],
          "name": "stdout"
        }
      ]
    },
    {
      "cell_type": "markdown",
      "metadata": {
        "id": "dgXW7KxvK54t"
      },
      "source": [
        " Question 3\n",
        " \n",
        "Write a Python function that accepts a string and calculate the number of uppercase letters and\n",
        "lowercase letters"
      ]
    },
    {
      "cell_type": "code",
      "metadata": {
        "colab": {
          "base_uri": "https://localhost:8080/"
        },
        "id": "URx7JwX5LIpK",
        "outputId": "bed3fb16-e96a-4dd9-886e-e7041408845b"
      },
      "source": [
        "string=input(\"Enter string:\")\n",
        "count1=0\n",
        "count2=0\n",
        "for i in string:\n",
        "      if(i.islower()):\n",
        "            count1=count1+1\n",
        "      elif(i.isupper()):\n",
        "            count2=count2+1\n",
        "print(\"The number of LOWERCASE characters is:\")\n",
        "print(count1)\n",
        "print(\"The number of UPPERCASE characters is:\")\n",
        "print(count2)"
      ],
      "execution_count": 14,
      "outputs": [
        {
          "output_type": "stream",
          "text": [
            "Enter string:RAHUL rahul\n",
            "The number of LOWERCASE characters is:\n",
            "5\n",
            "The number of UPPERCASE characters is:\n",
            "5\n"
          ],
          "name": "stdout"
        }
      ]
    },
    {
      "cell_type": "markdown",
      "metadata": {
        "id": "7dTfX3Y5MxYm"
      },
      "source": [
        "Question 4\n",
        " \n",
        "Write a Python function to sum all the numbers in a list"
      ]
    },
    {
      "cell_type": "code",
      "metadata": {
        "colab": {
          "base_uri": "https://localhost:8080/"
        },
        "id": "c0EaZnzNN_-W",
        "outputId": "11582f82-a5af-4e36-cbc9-a41cd54e8cf8"
      },
      "source": [
        "def sum(numbers):\n",
        "    total = 0\n",
        "    for x in numbers:\n",
        "        total += x\n",
        "    return total\n",
        "print(sum((2,4,7,3,1)))"
      ],
      "execution_count": 27,
      "outputs": [
        {
          "output_type": "stream",
          "text": [
            "17\n"
          ],
          "name": "stdout"
        }
      ]
    },
    {
      "cell_type": "markdown",
      "metadata": {
        "id": "RnoBMX3zOp1L"
      },
      "source": [
        " Question 5\n",
        " \n",
        "Write a Python function to multiply all the numbers in a list"
      ]
    },
    {
      "cell_type": "code",
      "metadata": {
        "colab": {
          "base_uri": "https://localhost:8080/"
        },
        "id": "CCDwUTUcOuOz",
        "outputId": "8a1406b7-778c-4d2a-ef16-148675058bd3"
      },
      "source": [
        " \n",
        "def sum(numbers):\n",
        "    total = 1\n",
        "    for x in numbers:\n",
        "        total =total*x\n",
        "    return total\n",
        "print(sum((1,2,3,4,5)))"
      ],
      "execution_count": 29,
      "outputs": [
        {
          "output_type": "stream",
          "text": [
            "120\n"
          ],
          "name": "stdout"
        }
      ]
    },
    {
      "cell_type": "markdown",
      "metadata": {
        "id": "DTF4F9sDO7hL"
      },
      "source": [
        " Question 6\n",
        " \n",
        "Write a Python function that takes a list and returns a new list with unique elements of the first list"
      ]
    },
    {
      "cell_type": "code",
      "metadata": {
        "colab": {
          "base_uri": "https://localhost:8080/"
        },
        "id": "5aBxwCeCPALl",
        "outputId": "02b403e8-f94d-4c62-d5e7-a3c71cfff91a"
      },
      "source": [
        "def unique_list(l):\n",
        "  x = [ ]\n",
        "  for a in l:\n",
        "    if a not in x:\n",
        "      x.append(a)\n",
        "  return x\n",
        " \n",
        "print(unique_list([1,1,2,2,3,3,4,4,5,5,6,6,7,7]))"
      ],
      "execution_count": 30,
      "outputs": [
        {
          "output_type": "stream",
          "text": [
            "[1, 2, 3, 4, 5, 6, 7]\n"
          ],
          "name": "stdout"
        }
      ]
    }
  ]
}