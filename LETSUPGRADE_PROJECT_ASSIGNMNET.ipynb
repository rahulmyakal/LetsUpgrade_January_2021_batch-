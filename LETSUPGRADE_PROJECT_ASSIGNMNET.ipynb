{
  "nbformat": 4,
  "nbformat_minor": 0,
  "metadata": {
    "colab": {
      "name": "LETSUPGRADE_PROJECT_ASSIGNMNET.ipynb",
      "provenance": [],
      "collapsed_sections": []
    },
    "kernelspec": {
      "name": "python3",
      "display_name": "Python 3"
    }
  },
  "cells": [
    {
      "cell_type": "markdown",
      "metadata": {
        "id": "BPGAZlX-QYEF"
      },
      "source": [
        "#**PROJECT NO 1**"
      ]
    },
    {
      "cell_type": "markdown",
      "metadata": {
        "id": "kn3KUoXDQir5"
      },
      "source": [
        "#**CRYPTOGRAPHY APP**"
      ]
    },
    {
      "cell_type": "code",
      "metadata": {
        "colab": {
          "base_uri": "https://localhost:8080/"
        },
        "id": "SN2uGJaiQBO0",
        "outputId": "17017a4c-37c6-4556-864c-f5e9f309c26f"
      },
      "source": [
        "!pip install onetimepad\r\n"
      ],
      "execution_count": 11,
      "outputs": [
        {
          "output_type": "stream",
          "text": [
            "Collecting onetimepad\n",
            "  Downloading https://files.pythonhosted.org/packages/85/15/2c9824da8742543eba7d48aafd479cf67c87e880b5a0035709d500d8447b/onetimepad-1.4.tar.gz\n",
            "Building wheels for collected packages: onetimepad\n",
            "  Building wheel for onetimepad (setup.py) ... \u001b[?25l\u001b[?25hdone\n",
            "  Created wheel for onetimepad: filename=onetimepad-1.4-cp36-none-any.whl size=3884 sha256=e4b49f7cfa81cf81b648e29c6f9a612850e35d976fccd837ceecd117d0454af6\n",
            "  Stored in directory: /root/.cache/pip/wheels/5f/aa/51/3ce5698312339b2de8e4c78cb9ad01116b6acc04965af793a6\n",
            "Successfully built onetimepad\n",
            "Installing collected packages: onetimepad\n",
            "Successfully installed onetimepad-1.4\n"
          ],
          "name": "stdout"
        }
      ]
    },
    {
      "cell_type": "code",
      "metadata": {
        "id": "XMkTU5oHPtPc"
      },
      "source": [
        "#Cryptography\r\n",
        "import onetimepad\r\n",
        "from tkinter import*\r\n",
        "root=Tk()\r\n",
        "root.title(\"CRYPTOGRAPHY APP\")\r\n",
        "\r\n",
        "\r\n",
        "def encryptMessage():\r\n",
        "    a=var.get()\r\n",
        "    ct=onetimepad.encrypt(a,\"rahul\")\r\n",
        "    print(\"working\",ct)\r\n",
        "    e2.delete(0,END)\r\n",
        "    e2.insert(END,ct)\r\n",
        "    \r\n",
        "\r\n",
        "l1=Label(root,text=\"Plain text\")\r\n",
        "l1.grid(row=0, column=0)\r\n",
        "var=StringVar()\r\n",
        "e1=Entry(root,textvariable=var)\r\n",
        "e1.grid(row=0, column=1)\r\n",
        "\r\n",
        "\r\n",
        "def decryptMessage():\r\n",
        "    a=var3.get()\r\n",
        "    ct=onetimepad.decrypt(a,\"rahul\")\r\n",
        "    print(\"working\",ct)\r\n",
        "    e4.delete(0,END)\r\n",
        "    e4.insert(END,ct)\r\n",
        "\r\n",
        "\r\n",
        "l2=Label(root,text=\"Encrypted text\")\r\n",
        "l2.grid(row=1, column=0)\r\n",
        "e2=Entry(root)\r\n",
        "e2.grid(row=1, column=1)\r\n",
        "\r\n",
        "l3=Label(root,text=\"Encrypted text\")\r\n",
        "l3.grid(row=4, column=0)\r\n",
        "var3=StringVar()\r\n",
        "e3=Entry(root,textvariable=var3)\r\n",
        "e3.grid(row=4, column=1)\r\n",
        "\r\n",
        "l4=Label(root,text=\"plain text\")\r\n",
        "l4.grid(row=5, column=0)\r\n",
        "e4=Entry(root)\r\n",
        "e4.grid(row=5, column=1)\r\n",
        "\r\n",
        "\r\n",
        "b1=Button(root,text=\"Encrytion\", command=encryptMessage,bg=\"red\",fg=\"white\")\r\n",
        "b1.grid(row=2,column=1)\r\n",
        "\r\n",
        "b2=Button(root,text=\"Decryption\", command=decryptMessage, bg=\"green\",fg=\"white\")\r\n",
        "b2.grid(row=6,column=1)\r\n",
        "\r\n",
        "\r\n",
        "root.mainloop()"
      ],
      "execution_count": null,
      "outputs": []
    },
    {
      "cell_type": "markdown",
      "metadata": {
        "id": "58iyedIiM_Nw"
      },
      "source": [
        "#**PROJECT NO 2** "
      ]
    },
    {
      "cell_type": "markdown",
      "metadata": {
        "id": "1zRgzSfINSV_"
      },
      "source": [
        "*FIRE BASE CONNECTIVITY*"
      ]
    },
    {
      "cell_type": "code",
      "metadata": {
        "colab": {
          "base_uri": "https://localhost:8080/"
        },
        "id": "Xds05129JwMQ",
        "outputId": "9844c919-25ce-4966-a8af-5d737073d13d"
      },
      "source": [
        "\r\n",
        "import firebase_admin\r\n",
        "from firebase_admin import credentials\r\n",
        "\r\n",
        "cred = credentials.Certificate(\"/content/sample_data/letsupgrade-2021-firebase-token.json.json\")\r\n",
        "firebase_admin.initialize_app(cred)\r\n",
        "\r\n"
      ],
      "execution_count": 2,
      "outputs": [
        {
          "output_type": "execute_result",
          "data": {
            "text/plain": [
              "<firebase_admin.App at 0x7f3eec14aa20>"
            ]
          },
          "metadata": {
            "tags": []
          },
          "execution_count": 2
        }
      ]
    },
    {
      "cell_type": "markdown",
      "metadata": {
        "id": "PHvHMXAcLkmi"
      },
      "source": [
        "#**PROJECT NO 3**\r\n",
        "#Instagram Photo Downloader\r\n",
        "\r\n",
        "instaloader profile username\r\n",
        "\r\n",
        "instaloader –help\r\n",
        "\r\n",
        "instaloader --no-videos --comments --geotags --no-metadata-json  --no-compress-json profile username\r\n",
        "\r\n",
        "\r\n",
        "instaloader --no-videos --comments --geotags --no-metadata-json  --no-compress-json –login username profile ritesh.ai\r\n",
        "\r\n",
        "instaloader --no-videos --comments --geotags --no-metadata-json  --no-compress-json –login username  --password password profile ritesh.ai"
      ]
    }
  ]
}