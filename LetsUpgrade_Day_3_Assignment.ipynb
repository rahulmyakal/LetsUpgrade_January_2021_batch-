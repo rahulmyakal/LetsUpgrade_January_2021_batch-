{
  "nbformat": 4,
  "nbformat_minor": 0,
  "metadata": {
    "colab": {
      "name": "LetsUpgrade_Day_3_Assignment.ipynb",
      "provenance": [],
      "collapsed_sections": [],
      "authorship_tag": "ABX9TyOheVavb3LU5EQvZmGxC2Nl",
      "include_colab_link": true
    },
    "kernelspec": {
      "name": "python3",
      "display_name": "Python 3"
    }
  },
  "cells": [
    {
      "cell_type": "markdown",
      "metadata": {
        "id": "view-in-github",
        "colab_type": "text"
      },
      "source": [
        "<a href=\"https://colab.research.google.com/github/rahulmyakal/LetsUpgrade_January_2021_batch-/blob/main/LetsUpgrade_Day_3_Assignment.ipynb\" target=\"_parent\"><img src=\"https://colab.research.google.com/assets/colab-badge.svg\" alt=\"Open In Colab\"/></a>"
      ]
    },
    {
      "cell_type": "markdown",
      "metadata": {
        "id": "wKSFAW3FeD57"
      },
      "source": [
        "Question 1\n",
        " \n",
        "Write a Python program to remove duplicates from a list\n",
        "Question 2\n",
        "Write a Python program to get the difference between the two list"
      ]
    },
    {
      "cell_type": "code",
      "metadata": {
        "colab": {
          "base_uri": "https://localhost:8080/"
        },
        "id": "lFo8SGsaeKiL",
        "outputId": "86bec861-4dd4-4126-caf9-2e6b68ead392"
      },
      "source": [
        " \n",
        "duplicate = [1,2,3,4,5,3,4,5,6]\n",
        "print(set(duplicate))"
      ],
      "execution_count": null,
      "outputs": [
        {
          "output_type": "stream",
          "text": [
            "{1, 2, 3, 4, 5, 6}\n"
          ],
          "name": "stdout"
        }
      ]
    },
    {
      "cell_type": "markdown",
      "metadata": {
        "id": "kY0Ca4s0ek7h"
      },
      "source": [
        " Question 2\n",
        "\n",
        "Write a Python program to get the difference between the two lists"
      ]
    },
    {
      "cell_type": "code",
      "metadata": {
        "colab": {
          "base_uri": "https://localhost:8080/"
        },
        "id": "dVqLgDupd_ea",
        "outputId": "52978e32-bd23-44ca-ed9b-6ec06cfe0ea8"
      },
      "source": [
        "list1 = (1,2,3,4,5,6)\n",
        "list2=(1,2,3,4,5,7)\n",
        "diff_list1_list2 = list(set(list1) - set(list2))\n",
        "diff_list2_list1 = list(set(list2) - set(list1))\n",
        "total_diff = diff_list1_list2 + diff_list2_list1\n",
        "print(total_diff)"
      ],
      "execution_count": null,
      "outputs": [
        {
          "output_type": "stream",
          "text": [
            "[6, 7]\n"
          ],
          "name": "stdout"
        }
      ]
    },
    {
      "cell_type": "markdown",
      "metadata": {
        "id": "iYy37YP8evgS"
      },
      "source": [
        " Question 3\n",
        " \n",
        "Write a Python program to get the frequency of the elements in a list"
      ]
    },
    {
      "cell_type": "code",
      "metadata": {
        "colab": {
          "base_uri": "https://localhost:8080/"
        },
        "id": "b3cOR7srgy90",
        "outputId": "018df465-e96c-4e40-a36c-7e821444d2a3"
      },
      "source": [
        " \n",
        "from collections import Counter \n",
        " \n",
        "list1 = [[1,2,3,4],[1,2,3,4],[4,5,6]]\n",
        " \n",
        "print( str(list1)) \n",
        " \n",
        "res = dict(Counter(i for sub in list1 for i in set(sub))) \n",
        " \n",
        "print(\"The list frequency of elements is : \" + str(res))"
      ],
      "execution_count": 31,
      "outputs": [
        {
          "output_type": "stream",
          "text": [
            "[[1, 2, 3, 4], [1, 2, 3, 4], [4, 5, 6]]\n",
            "The list frequency of elements is : {1: 2, 2: 2, 3: 2, 4: 3, 5: 1, 6: 1}\n"
          ],
          "name": "stdout"
        }
      ]
    },
    {
      "cell_type": "markdown",
      "metadata": {
        "id": "X1JqcNIbisQ4"
      },
      "source": [
        "Question 4\n",
        " \n",
        "Write a Python program to compute the similarity between two lists.\n",
        " \n",
        "Sample data: [\"red\", \"orange\", \"green\", \"blue\", \"white\"], [\"black\", \"yellow\", \"green\", \"blue\"]\n",
        " \n",
        "Expected Output: Color1-Color2: ['white', 'orange', 'red']\n",
        " Color2-Color1: ['black', 'yellow']"
      ]
    },
    {
      "cell_type": "code",
      "metadata": {
        "colab": {
          "base_uri": "https://localhost:8080/"
        },
        "id": "hZDhvL-oir7o",
        "outputId": "ab33b2f5-695d-40ec-a847-39f0546e96a6"
      },
      "source": [
        "from collections import Counter\n",
        "color1 = [\"red\", \"orange\", \"green\", \"blue\", \"white\"]\n",
        "color2 = [\"black\", \"yellow\", \"green\", \"blue\"]\n",
        "counter1 = Counter(color1)\n",
        "counter2 = Counter(color2)\n",
        "print(\"Color1-Color2: \",list(counter1 - counter2))\n",
        "print(\"Color2-Color1: \",list(counter2 - counter1))"
      ],
      "execution_count": 15,
      "outputs": [
        {
          "output_type": "stream",
          "text": [
            "Color1-Color2:  ['red', 'orange', 'white']\n",
            "Color2-Color1:  ['black', 'yellow']\n"
          ],
          "name": "stdout"
        }
      ]
    },
    {
      "cell_type": "markdown",
      "metadata": {
        "id": "tKFyQ4dYjyVT"
      },
      "source": [
        "Question 5\n",
        " \n",
        "Write a Python function that takes a list of words and returns the length of the longest one"
      ]
    },
    {
      "cell_type": "code",
      "metadata": {
        "colab": {
          "base_uri": "https://localhost:8080/"
        },
        "id": "nxit_NIqj6jU",
        "outputId": "4c58acb8-1f97-433b-e63b-fe7c08c689b4"
      },
      "source": [
        "def long():\n",
        "    text = input(\"Please input a list of words to evaluate: \\n \")\n",
        " \n",
        "    longest = 0\n",
        " \n",
        "    for words in text.split():\n",
        "        if len(words) > longest:\n",
        "            longest = len(words)\n",
        "            longest_word = words\n",
        " \n",
        "    print(\"The longest word is\", longest_word, \"with length\", len(longest_word))\n",
        " \n",
        "long()"
      ],
      "execution_count": 32,
      "outputs": [
        {
          "output_type": "stream",
          "text": [
            "Please input a list of words to evaluate: \n",
            " Rahul shrirag Kishor Abhishek\n",
            "The longest word is Abhishek with length 8\n"
          ],
          "name": "stdout"
        }
      ]
    },
    {
      "cell_type": "markdown",
      "metadata": {
        "id": "kAgAOPTokZlD"
      },
      "source": [
        " Question 6\n",
        " \n",
        "Write a Python program to count the occurrences of each word in a given sentence"
      ]
    },
    {
      "cell_type": "code",
      "metadata": {
        "colab": {
          "base_uri": "https://localhost:8080/"
        },
        "id": "qAxnjVxQkfoC",
        "outputId": "f3577acd-71c4-4006-e335-2bdfe9bda70f"
      },
      "source": [
        "s=input().split()\n",
        " \n",
        "a=list(set(s))\n",
        " \n",
        "for i in a:\n",
        " \n",
        "    print(i,\"-\",s.count(i))"
      ],
      "execution_count": 22,
      "outputs": [
        {
          "output_type": "stream",
          "text": [
            "Rahul Rahul Shruti Shruti Hassan\n",
            "Shruti - 2\n",
            "Rahul - 2\n",
            "Hassan - 1\n"
          ],
          "name": "stdout"
        }
      ]
    },
    {
      "cell_type": "markdown",
      "metadata": {
        "id": "Ei2YXKF_mJxj"
      },
      "source": [
        " Question 7\n",
        " \n",
        "Write a Python program to count and display the vowels of a given text"
      ]
    },
    {
      "cell_type": "code",
      "metadata": {
        "colab": {
          "base_uri": "https://localhost:8080/"
        },
        "id": "ECELtCxRmafL",
        "outputId": "45a4828d-f68d-41e2-e98e-e8e4c707983c"
      },
      "source": [
        "def vowel(text):\n",
        "    vowels = \"aeiuoAEIOU\"\n",
        "    print(len([letter for letter in text if letter in vowels]))\n",
        "    print([letter for letter in text if letter in vowels])\n",
        "vowel('letsupgrade')"
      ],
      "execution_count": 24,
      "outputs": [
        {
          "output_type": "stream",
          "text": [
            "4\n",
            "['e', 'u', 'a', 'e']\n"
          ],
          "name": "stdout"
        }
      ]
    },
    {
      "cell_type": "markdown",
      "metadata": {
        "id": "kfkuXpMCmxOK"
      },
      "source": [
        "Question 8\n",
        " \n",
        " Write a Python script to generate and print a dictionary that contains a number (between 1 and n)\n",
        "in the form (x, x*x)"
      ]
    },
    {
      "cell_type": "code",
      "metadata": {
        "colab": {
          "base_uri": "https://localhost:8080/"
        },
        "id": "I1zHTollm6gj",
        "outputId": "fd0de51b-2d08-42c1-f9aa-45d76bc15858"
      },
      "source": [
        "n=int(input(\"Input a number \"))\n",
        "d = dict()\n",
        " \n",
        "for x in range(1,n+1):\n",
        "    d[x]=x*x\n",
        " \n",
        "print(d)"
      ],
      "execution_count": 28,
      "outputs": [
        {
          "output_type": "stream",
          "text": [
            "Input a number 4\n",
            "{1: 1, 2: 4, 3: 9, 4: 16}\n"
          ],
          "name": "stdout"
        }
      ]
    },
    {
      "cell_type": "markdown",
      "metadata": {
        "id": "r4do4UQ4nYvH"
      },
      "source": [
        "Question 9\n",
        " \n",
        "Write a Python program to combine two dictionary adding values for common keys\n",
        " \n",
        "● d1 = {'a': 100, 'b': 200, 'c':300}\n",
        " \n",
        "● d2 = {'a': 300, 'b': 200, 'd':400}\n",
        " \n",
        "● Sample output: Counter({'a': 400, 'b': 400, 'd': 400, 'c': 300})"
      ]
    },
    {
      "cell_type": "code",
      "metadata": {
        "colab": {
          "base_uri": "https://localhost:8080/"
        },
        "id": "FyWa8DwGnePv",
        "outputId": "3bff9af9-4a6c-471b-cb2c-09b8fbcd43d9"
      },
      "source": [
        "d1 = {'a': 100, 'b': 200, 'c':300}\n",
        " \n",
        "d2 = {'a': 300, 'b': 200, 'd':400}\n",
        " \n",
        "d3 = {}\n",
        " \n",
        "for i, j in d1.items():\n",
        " \n",
        "    for x, y in d2.items():\n",
        " \n",
        "        if i == x:\n",
        " \n",
        "            d3[i]=(j+y)\n",
        " \n",
        "print(d3)"
      ],
      "execution_count": 29,
      "outputs": [
        {
          "output_type": "stream",
          "text": [
            "{'a': 400, 'b': 400}\n"
          ],
          "name": "stdout"
        }
      ]
    },
    {
      "cell_type": "markdown",
      "metadata": {
        "id": "8kULFnaZnrM2"
      },
      "source": [
        " Question 10\n",
        " \n",
        "Write a Python program to print all unique values in a dictionary\n",
        " \n",
        "● Sample Data : [{\"V\":\"S001\"}, {\"V\": \"S002\"}, {\"VI\": \"S001\"}, {\"VI\": \"S005\"}, {\"VII\":\"S005\"},\n",
        "{\"V\":\"S009\"},{\"VIII\":\"S007\"}]\n",
        " \n",
        "● Expected Output : Unique Values: {'S005', 'S002', 'S007', 'S001', 'S009'}"
      ]
    },
    {
      "cell_type": "code",
      "metadata": {
        "colab": {
          "base_uri": "https://localhost:8080/"
        },
        "id": "_jbtQSDYn0RV",
        "outputId": "99b228f6-5378-4616-b27f-52225470f158"
      },
      "source": [
        " \n",
        "List = [{\"V\":\"S001\"}, {\"V\": \"S002\"}, {\"VI\": \"S001\"}, {\"VI\": \"S005\"}, {\"VII\":\"S005\"}, {\"V\":\"S009\"},{\"VIII\":\"S007\"}]\n",
        "print(\"Original List: \",List)\n",
        "u_value = set( val for dic in List for val in dic.values())\n",
        "print(\"Unique Values: \",u_value)"
      ],
      "execution_count": 30,
      "outputs": [
        {
          "output_type": "stream",
          "text": [
            "Original List:  [{'V': 'S001'}, {'V': 'S002'}, {'VI': 'S001'}, {'VI': 'S005'}, {'VII': 'S005'}, {'V': 'S009'}, {'VIII': 'S007'}]\n",
            "Unique Values:  {'S009', 'S005', 'S001', 'S007', 'S002'}\n"
          ],
          "name": "stdout"
        }
      ]
    }
  ]
}